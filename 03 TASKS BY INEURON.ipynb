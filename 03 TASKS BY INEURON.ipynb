{
 "cells": [
  {
   "cell_type": "markdown",
   "id": "a7ac45f1",
   "metadata": {},
   "source": [
    "# TASK 1"
   ]
  },
  {
   "cell_type": "code",
   "execution_count": null,
   "id": "b4f027e1",
   "metadata": {},
   "outputs": [],
   "source": [
    "'''s = \"this is My First Python programming class and i am learNING python string and its function\"\n",
    "1 . Try to extract data from index one to index 300 with a jump of 3 \n",
    "2. Try to reverse a string without using reverse function \n",
    "3. Try to split a string after conversion of entire string in uppercase \n",
    "4. try to convert the whole string into lower case \n",
    "5 . Try to capitalize the whole string \n",
    "6 . Write a diference between isalnum() and isalpha()\n",
    "7. Try to give an example of expand tab\n",
    "8 . Give an example of strip , lstrip and rstrip \n",
    "9.  Replace a string charecter by another charector by taking your own example \n",
    "\"sudhanshu\"\n",
    "10 . Try  to give a defination of string center function with and exmple \n",
    "11 . Write your own definition of compiler and interpretor without copy paste form internet in your own language\n",
    "12 . Python is a interpreted of compiled language give a clear ans with your understanding \n",
    "13 . Try to write a usecase of python with your understanding .'''"
   ]
  },
  {
   "cell_type": "markdown",
   "id": "c108443c",
   "metadata": {},
   "source": [
    "# TASK 2"
   ]
  },
  {
   "cell_type": "code",
   "execution_count": null,
   "id": "063c894a",
   "metadata": {},
   "outputs": [],
   "source": [
    "'''#Questions \n",
    "\n",
    "l = [3,4,5,6,7 , [23,456,67,8,78,78] , [345,56,87,8,98,9] , (234,6657,6) , {\"key1\" :\"sudh\" , 234:[23,45,656]}]\n",
    "1 . Try to reverse a list \n",
    "2. try to access 234 out of this list \n",
    "3 . try to access 456 \n",
    "4 . Try to extract only a list collection form list l \n",
    "5 . Try to extract \"sudh\"\n",
    "6 . Try to list all the key in dict element avaible in list \n",
    "7 . Try to extract all the value element form dict available in list '''"
   ]
  },
  {
   "cell_type": "markdown",
   "id": "a28bd782",
   "metadata": {},
   "source": [
    "# TASK 3"
   ]
  },
  {
   "cell_type": "code",
   "execution_count": null,
   "id": "294e689c",
   "metadata": {},
   "outputs": [],
   "source": [
    "'''q1 :\n",
    "ineruon \n",
    "ineruon ineruon \n",
    "ineruon ineruon ineruon\n",
    "ineruon ineruon ineruon ineruon\n",
    "\n",
    "q2 - \n",
    "\n",
    "          ineruon\n",
    "    ineruon      ineruon\n",
    "ineruon\t\tineruon \tineruon\n",
    "\tineruon\t\t ineruon\n",
    "\t\t  ineruon\n",
    "\n",
    "l = [[1,2,3,4] , (2,3,4,5,6) , (3,4,5,6,7) , set([23,4,5,45,4,4,5,45,45,4,5]) , {'k1' :\"sudh\" , \"k2\" : \"ineuron\",\"k3\":\n",
    "            \"kumar\" , 3:6 , 7:8} , [\"ineuron\" , \"data science \"]]\n",
    "\n",
    "q3 : Try to extract all the list entity \n",
    "q4 : Try to extract all the dict enteties\n",
    "q5 : Try to extract all the tuples entities\n",
    "q6 : Try to extract all the numerical data it may b a part of dict key and values \n",
    "q7 : Try to give summation of all the numeric data \n",
    "q8 : Try to filter out all the odd values out all numeric data which is a part of a list \n",
    "q9 : Try to extract \"ineruon\" out of this data\n",
    "q10 :Try to find out a number of occurances of all the data \n",
    "q11 : Try to find out number of keys in dict element\n",
    "q12 : Try to filter out all the string data \n",
    "q13 : Try to Find  out alphanum in data\n",
    "q14 : Try to find out multiplication of all numeric value in  the individual collection inside dataset \n",
    "q15 : Try to unwrape all the collection inside collection and create a flat list '''"
   ]
  },
  {
   "cell_type": "markdown",
   "id": "95d0d240",
   "metadata": {},
   "source": [
    "# TASK 4"
   ]
  },
  {
   "cell_type": "code",
   "execution_count": null,
   "id": "5f0247d8",
   "metadata": {},
   "outputs": [],
   "source": [
    "'''\n",
    "q1 : Try to print this by using while loop \n",
    "* \n",
    "* * \n",
    "* * * \n",
    "* * * * \n",
    "* * * * * \n",
    "* * * * * * \n",
    "* * * * * * * \n",
    "* * * * * * * * \n",
    "* * * * * * * * * \n",
    "\n",
    "q2 : try to print below by using while loop : \n",
    "        \n",
    "A\n",
    "B H \n",
    "C I N\n",
    "D J o S\n",
    "E K p T W\n",
    "F L Q U X z\n",
    "G M R V Y \n",
    "\n",
    "q3 : Try to print all the number divisible by 3 in between a range of 40 - 400\n",
    "    \n",
    "q4 : Try to filter out all the vowels form below text by using while loop : \n",
    " \"\"\"Python is a high-level, interpreted, general-purpose programming language. Its design philosophy emphasizes code readability with the use of significant indentation.[32]\n",
    "\n",
    "Python is dynamically-typed and garbage-collected. It supports multiple programming paradigms, including structured (particularly procedural), object-oriented and functional programming. It is often described as a \"batteries included\" language due to its comprehensive standard library.[33][34]\n",
    "\n",
    "Guido van Rossum began working on Python in the late 1980s as a successor to the ABC programming language and first released it in 1991 as Python 0.9.0.[35] Python 2.0 was released in 2000 and introduced new features such as list comprehensions, cycle-detecting garbage collection, reference counting, and Unicode support. Python 3.0, released in 2008, was a major revision that is not completely backward-compatible with earlier versions. Python 2 was discontinued with version 2.7.18 in 2020.[36]\n",
    "\n",
    "Python consistently ranks as one of the most popular programming languagesc\"\"\" \n",
    "\n",
    "\n",
    "q5 : Try to generate all the even number between 1- 1000\n",
    "\n",
    "q6 : Define a function for all the above problem statememnt  . \n",
    "    \n",
    "q7 : write a code to get a time of your system \n",
    "\n",
    "q8 : Write a code to fetch date form your system \n",
    "\n",
    "q9 : Write a code to send a mail to your friend \n",
    "\n",
    "q10 : write a code to trigger alarm for you at scheduled time \n",
    "\n",
    "q11 : write a code to check ip address of your system \n",
    "\n",
    "q12 : Write a code to check a perticular installation in your system\n",
    "\n",
    "q13 : Write a code to convert any text in to voice \n",
    "\n",
    "q14 : you have to write a fun which will take string and return a len of \n",
    "it without using a inbuilt fun len\n",
    "\n",
    "q15 :write a fun which will be able to print an index of all premitive element which you will pass \n",
    "\n",
    "q16 : Write a fun which will take input as a dict and give me out as a list of all the values \n",
    "even in case of 2 level nesting it should work . \n",
    "\n",
    "q17 : write a function whihc will take multiple list as a input and give me concatnation of all the element as \n",
    "and output\n",
    "\n",
    "q18 : Write a function which will whould return list of all the file name from a directory . \n",
    "\n",
    "q19 : write a function whihc will be able to read a image file and show it to you .\n",
    "    \n",
    "q20 : write a function by which you will be able to append two PDF files . \n",
    "    \n",
    "q21 : write a function which can help you to filter only word file from a directory . \n",
    "    \n",
    "q22 : write a function which can read video file and play for you . \n",
    "    \n",
    "q23 : write a function which will be able to shutdonw your system . \n",
    "\n",
    "q24 : Write a function which will whould return list of all the file name from a directory . \n",
    "\n",
    "q25 : write a function whihc will be able to access your mail . \n",
    "'''"
   ]
  },
  {
   "cell_type": "markdown",
   "id": "07505a31",
   "metadata": {},
   "source": [
    "# TASK 5"
   ]
  },
  {
   "cell_type": "code",
   "execution_count": null,
   "id": "9dad2392",
   "metadata": {},
   "outputs": [],
   "source": [
    "'''Todays task :\n",
    "    q1 : Try to print a prime number in between 1 to 1000\n",
    "    q2 : Try to write a function which  is equivalent  to print function in python\n",
    "    q3 : Try to write a function which is a replica of list append , extend and pop function \n",
    "    q4 : Try to write a lambda function which can return a concatination of all the string that we will pass\n",
    "    q5 : Try to write a lambda function which can return list of square of all the data between 1-100 \n",
    "    q6 : Try to write a 10 Different different example of lambda function with a choice of your taks \n",
    "    q7 : Try to wwrite a funtion whihc can perform a read operation from .txt file '''"
   ]
  },
  {
   "cell_type": "markdown",
   "id": "63f53d82",
   "metadata": {},
   "source": [
    "# TASK 6"
   ]
  },
  {
   "cell_type": "markdown",
   "id": "abdc750a",
   "metadata": {},
   "source": [
    "USE OOPS TO SLOVE ALL THESE TASKS USE LOGGING AND EXCEPTIONAL HANDLING ALWAYS CREATE SEPERATE CLASSES FOR EVERYTHING"
   ]
  },
  {
   "cell_type": "code",
   "execution_count": null,
   "id": "8f289728",
   "metadata": {},
   "outputs": [],
   "source": [
    "'''CLASS, CONSTRUCTOR,OBJECT, INHERITANCE ALL TYPES , PRIVATE, PUBLIC, PROTECTED, ABSTRACTION, ENCAPSULATION, POLYMORPHISM, MODULES, PACKAGES,\n",
    "METHOD OVERRIDING\n",
    "\n",
    "WRITE 10 EXAMPLES FOR EACH ONE '''"
   ]
  },
  {
   "cell_type": "markdown",
   "id": "1fe69333",
   "metadata": {},
   "source": [
    "# TASK 7"
   ]
  },
  {
   "cell_type": "code",
   "execution_count": null,
   "id": "b1d422b6",
   "metadata": {},
   "outputs": [],
   "source": [
    "'''Mysql : \n",
    "    \n",
    "    1. Create a  table attribute dataset and dress dataset\n",
    "    2. Do a bulk load for these two table for respective dataset \n",
    "    3. read these dataset in pandas as a dataframe \n",
    "    4. Convert attribute dataset in json format \n",
    "    5. Store this dataset into mongodb\n",
    "    6. in sql task try to perform left join operation with attrubute dataset and dress dataset on column Dress_ID\n",
    "    7. Write a sql query to find out how many unique dress that we have based on dress id \n",
    "    8. Try to find out how mnay dress is having recommendation 0\n",
    "    9. Try to find out total dress sell for individual dress id \n",
    "    10. Try to find out a third highest most selling dress id '''"
   ]
  },
  {
   "cell_type": "markdown",
   "id": "9b3fdc21",
   "metadata": {},
   "source": [
    "# TASK 8"
   ]
  },
  {
   "cell_type": "code",
   "execution_count": null,
   "id": "cc5be942",
   "metadata": {},
   "outputs": [],
   "source": [
    "'''https://drive.google.com/file/d/1FRnbQqgK6S-mr9StNF5MurSaXhah9uoJ/view?usp=sharing\n",
    "\n",
    "\n",
    "https://drive.google.com/file/d/11rPJXr-9VoeV2Pi0RSfVehw1tbQOAjLI/view?usp=sharing\n",
    "\n",
    "https://docs.google.com/spreadsheets/d/1z4EWsGxw0YBQ1-51xZDxYNlB3ngJzg4t/edit?usp=sharing&ouid=118282207943964605599&rtpof=true&sd=true\n",
    "\n",
    "\n",
    "https://docs.google.com/spreadsheets/d/1z2n8aeFF5GoohQ3KCZw8bKogezpO9l4k/edit?usp=sharing&ouid=118282207943964605599&rtpof=true&sd=true\n",
    "\n",
    "1 .Find out there avarage rating on weekly basis keep this in a mind that they take two days of leave\n",
    "2 .Total working days for each agents \n",
    "3. Total query that you hvae taken \n",
    "4. total Feedback that you have received \n",
    "5. a agent name who have average rating between 3.5 to 4 \n",
    "6 . Agent name who have rating lesss then 3.5 \n",
    "7 . agent name who have rating more then 4.5 \n",
    "8 . how many feedaback agents have received more then 4.5 average\n",
    "9 . average weekly response time for each agent \n",
    "10 . average weekely resolution time for each agents \n",
    "11 . list of all agents name \n",
    "12 . percentage of chat on which they have received a feedback \n",
    "13 . Total contributation hour for each and every agents weekly basis \n",
    "14. total percentage of active hour for a month '''"
   ]
  },
  {
   "cell_type": "markdown",
   "id": "9ecec394",
   "metadata": {},
   "source": [
    "# TASK 9"
   ]
  },
  {
   "cell_type": "code",
   "execution_count": null,
   "id": "902d6cdc",
   "metadata": {},
   "outputs": [],
   "source": [
    "'''#Task 1 - Fitbit Dataset\n",
    "\n",
    "https://drive.google.com/drive/folders/1zRQjEqbUWCIrBOk3rqMXI_5luwfN0QnY\n",
    "\n",
    "1. Read this dataset in pandas , mysql and mongodb \n",
    "2. while creting a table in mysql dont use manual approach to create it  ,always use a automation to create a table in mysql\n",
    " ## hint - use csvkit library to automate this task and to load a data in bulk in you mysql \n",
    "3. convert all the dates avaible in dataset to timestamp format in pandas and in sql you to convert it in date format\n",
    "4 . Find out in this data that how many unique id's we have \n",
    "5 . which id is one of the active id that you have in whole dataset \n",
    "6 . how many of them have not logged there activity find out in terms of number of ids \n",
    "7 . Find out who is the laziest person id that we have in dataset \n",
    "8 . Explore over an internet that how much calories burn is required for a healthy person and find out how many healthy person we have in our dataset \n",
    "9. how many person are not a regular person with respect to activity try to find out those \n",
    "10 . who is the thired most active person in this dataset find out those in pandas and in sql both . \n",
    "11 . who is the 5th most laziest person avilable in dataset find it out \n",
    "12 . what is a totla acumulative calories burn for a person find out '''\n"
   ]
  },
  {
   "cell_type": "markdown",
   "id": "694c763a",
   "metadata": {},
   "source": [
    "# TASK 10"
   ]
  },
  {
   "cell_type": "code",
   "execution_count": null,
   "id": "4529f9f1",
   "metadata": {},
   "outputs": [],
   "source": [
    "'''#task 2 - Superstore_USA\n",
    "\n",
    "https://drive.google.com/drive/folders/1zRQjEqbUWCIrBOk3rqMXI_5luwfN0QnY\n",
    "\n",
    "1 . load this data in sql and in pandas with a relation in sql \n",
    "2 . while loading this data you dont have to create a table manually you can use any automated approach to create a table and load a data in bulk in table \n",
    "3 . Find out how return that we ahve recived and with a product id \n",
    "4 . try  to join order and return data both in sql and pandas \n",
    "5 . Try to find out how many unique customer that we have \n",
    "6 . try to find out in how many regions we are selling a product and who is a manager for a respective region \n",
    "7 . find out how many different differnet shipement mode that we have and what is a percentage usablity of all the shipment mode with respect to dataset \n",
    "8 . Create a new coulmn and try to find our a diffrence between order date and shipment date\n",
    "9 . base on question number 8 find out for which order id we have shipment duration more than 10 days \n",
    "10 . Try to find out a list of a returned order which sihpment duration was more then 15 days and find out that region manager as well \n",
    "11 . Gorup by region and find out which region is more profitable \n",
    "12 . Try to find out overalll in which country we are giving more didscount \n",
    "13 . Give me a list of unique postal code \n",
    "14 . which customer segement is more profitalble find it out . \n",
    "15 . try to find out the 10th most loss making product catagory . \n",
    "16 . Try to find out 10 top  product with highest margins '''"
   ]
  },
  {
   "cell_type": "markdown",
   "id": "2a3772ef",
   "metadata": {},
   "source": []
  },
  {
   "cell_type": "markdown",
   "id": "ae0789a8",
   "metadata": {},
   "source": []
  },
  {
   "cell_type": "markdown",
   "id": "7a0f5fe9",
   "metadata": {},
   "source": [
    "cufflinks - https://github.com/santosjorge/cufflinks\n",
    "plotly - https://plotly.com/python/plotly-express/\n",
    "seaborn - https://seaborn.pydata.org/index.html\n",
    "matplotlib - https://matplotlib.org/stable/index.html"
   ]
  },
  {
   "cell_type": "markdown",
   "id": "7fc13aba",
   "metadata": {},
   "source": []
  }
 ],
 "metadata": {
  "kernelspec": {
   "display_name": "Python 3 (ipykernel)",
   "language": "python",
   "name": "python3"
  },
  "language_info": {
   "codemirror_mode": {
    "name": "ipython",
    "version": 3
   },
   "file_extension": ".py",
   "mimetype": "text/x-python",
   "name": "python",
   "nbconvert_exporter": "python",
   "pygments_lexer": "ipython3",
   "version": "3.9.12"
  }
 },
 "nbformat": 4,
 "nbformat_minor": 5
}
