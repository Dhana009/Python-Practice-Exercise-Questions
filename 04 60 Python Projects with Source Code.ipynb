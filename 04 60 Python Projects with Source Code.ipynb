{
 "cells": [
  {
   "cell_type": "code",
   "execution_count": null,
   "id": "94483011",
   "metadata": {},
   "outputs": [],
   "source": [
    "'''\n",
    "Python Projects For Beginners:\n",
    "If you’re a newbie to Python where you’ve just learned lists, tuples, dictionaries, and some basic Python modules like the random module, here are some Python projects with source code for beginners for you:\n",
    "\n",
    "Create Acronyms using Python\n",
    "Alarm Clock with Python\n",
    "Email Slicer with Python\n",
    "Story Generator with Python\n",
    "Generate Password with Python\n",
    "Play Rock, Paper, and Scissors with Python\n",
    "Dice Roll Simulator\n",
    "QR Code Generator\n",
    "Animal Quiz Game\n",
    "Print Coloured Text\n",
    "BMI Calculator\n",
    "Fahrenheit to Celcius Converter\n",
    "Taking Multiple User Inputs\n",
    "Convert Roman Numbers to Decimals\n",
    "'''"
   ]
  },
  {
   "cell_type": "code",
   "execution_count": null,
   "id": "86584e8d",
   "metadata": {},
   "outputs": [],
   "source": [
    "'''\n",
    "Advance Python Projects:\n",
    "If you have learned the fundamental Python libraries and some of the external libraries, you should now know how to install external libraries and work with them. So if you are at that level now, you can work on all the advanced Python projects with source code mentioned below:\n",
    "\n",
    "Digital Clock GUI\n",
    "Get Desktop Notifications with Python\n",
    "Use Your Phone Camera for Computer Vision\n",
    "Music Player GUI\n",
    "Game of Life with Python\n",
    "Extract Text from videos\n",
    "Fidget Spinner Game\n",
    "Spelling Correction with Python\n",
    "Create Amazing Graphics with Python\n",
    "Monty Hall Simulator\n",
    "Video to Audio Converter\n",
    "Tic Tac Toe GUI\n",
    "Calculator GUI\n",
    "Number Guessing Game\n",
    "Image Converter GUI\n",
    "Weight Converter GUI\n",
    "Visualize a Chess Board with Python\n",
    "Age and Gender Detection\n",
    "Bar Code and QR Code Reader\n",
    "Create Audiobook with Python\n",
    "Face Detection\n",
    "Extract Text from PDF\n",
    "Card Game using DS and Algo\n",
    "Web Scrapper with Python\n",
    "Create a Pencil Sketch using Python\n",
    "Text Editor GUI\n",
    "Instagram Filters with Python\n",
    "Count Number of Rainy days in a year\n",
    "Send Emails with Python\n",
    "Image Segmentation\n",
    "OTP Verification System\n",
    "Deploy a Chatbot\n",
    "Create a Telegram Bot\n",
    "Scraping Twitter without API\n",
    "Text to Speech Converter\n",
    "Keyword Research with Python\n",
    "Scrape Wikipedia\n",
    "Web Scraping to create a CSV\n",
    "Scrape Instagram\n",
    "Image Filtering\n",
    "Audio Processing\n",
    "Analog Clock with Python\n",
    "Create a Simple Chatbot\n",
    "Clock APP with Python\n",
    "3D Graphs\n",
    "Calendar GUI\n",
    "'''"
   ]
  },
  {
   "cell_type": "markdown",
   "id": "99c5c6f6",
   "metadata": {},
   "source": [
    "link : https://medium.com/coders-camp/60-python-projects-with-source-code-919cd8a6e512"
   ]
  },
  {
   "cell_type": "code",
   "execution_count": null,
   "id": "8789cbb4",
   "metadata": {},
   "outputs": [],
   "source": []
  },
  {
   "cell_type": "code",
   "execution_count": null,
   "id": "fffa3c76",
   "metadata": {},
   "outputs": [],
   "source": []
  },
  {
   "cell_type": "code",
   "execution_count": null,
   "id": "88beb23b",
   "metadata": {},
   "outputs": [],
   "source": []
  },
  {
   "cell_type": "code",
   "execution_count": null,
   "id": "ce16d2a4",
   "metadata": {},
   "outputs": [],
   "source": []
  }
 ],
 "metadata": {
  "kernelspec": {
   "display_name": "Python 3 (ipykernel)",
   "language": "python",
   "name": "python3"
  },
  "language_info": {
   "codemirror_mode": {
    "name": "ipython",
    "version": 3
   },
   "file_extension": ".py",
   "mimetype": "text/x-python",
   "name": "python",
   "nbconvert_exporter": "python",
   "pygments_lexer": "ipython3",
   "version": "3.9.12"
  }
 },
 "nbformat": 4,
 "nbformat_minor": 5
}
