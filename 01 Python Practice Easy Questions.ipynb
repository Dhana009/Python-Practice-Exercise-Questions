{
 "cells": [
  {
   "cell_type": "code",
   "execution_count": null,
   "id": "ed215e68",
   "metadata": {},
   "outputs": [],
   "source": [
    "'''\n",
    "1\n",
    "01 Write a Python program to print \"Hello Python\"?\n",
    "02 Write a Python program to do arithmetical operations addition and division.?\n",
    "03 Write a Python program to find the area of a triangle?\n",
    "04 Write a Python program to swap two variables?\n",
    "05 Write a Python program to generate a random number?\n",
    "'''"
   ]
  },
  {
   "cell_type": "code",
   "execution_count": null,
   "id": "222caf40",
   "metadata": {},
   "outputs": [],
   "source": []
  },
  {
   "cell_type": "code",
   "execution_count": null,
   "id": "6f5d3c3b",
   "metadata": {},
   "outputs": [],
   "source": []
  },
  {
   "cell_type": "code",
   "execution_count": null,
   "id": "3dd8548e",
   "metadata": {},
   "outputs": [],
   "source": []
  },
  {
   "cell_type": "code",
   "execution_count": null,
   "id": "46ca8490",
   "metadata": {},
   "outputs": [],
   "source": []
  },
  {
   "cell_type": "code",
   "execution_count": null,
   "id": "b8c95b1a",
   "metadata": {},
   "outputs": [],
   "source": [
    "'''\n",
    "2\n",
    "Write a Python program to convert kilometers to miles?\n",
    "Write a Python program to convert Celsius to Fahrenheit?\n",
    "Write a Python program to display calendar?\n",
    "Write a Python program to solve quadratic equation?\n",
    "Write a Python program to swap two variables without temp variable?\n",
    "'''"
   ]
  },
  {
   "cell_type": "code",
   "execution_count": null,
   "id": "7deace44",
   "metadata": {},
   "outputs": [],
   "source": []
  },
  {
   "cell_type": "code",
   "execution_count": null,
   "id": "56a6fb1f",
   "metadata": {},
   "outputs": [],
   "source": []
  },
  {
   "cell_type": "code",
   "execution_count": null,
   "id": "2adfc15c",
   "metadata": {},
   "outputs": [],
   "source": []
  },
  {
   "cell_type": "code",
   "execution_count": null,
   "id": "67b4fd50",
   "metadata": {},
   "outputs": [],
   "source": []
  },
  {
   "cell_type": "code",
   "execution_count": null,
   "id": "566020fe",
   "metadata": {},
   "outputs": [],
   "source": [
    "'''\n",
    "3\n",
    "Write a Python Program to Check if a Number is Positive, Negative or Zero?\n",
    "Write a Python Program to Check if a Number is Odd or Even?\n",
    "Write a Python Program to Check Leap Year?\n",
    "Write a Python Program to Check Prime Number?\n",
    "Write a Python Program to Print all Prime Numbers in an Interval of 1-10000?\n",
    "'''"
   ]
  },
  {
   "cell_type": "markdown",
   "id": "f2480da0",
   "metadata": {},
   "source": [
    "#### Write a Python Program to Check if a Number is Positive, Negative or Zero?"
   ]
  },
  {
   "cell_type": "code",
   "execution_count": null,
   "id": "e0649b57",
   "metadata": {},
   "outputs": [],
   "source": []
  },
  {
   "cell_type": "markdown",
   "id": "85cc8890",
   "metadata": {},
   "source": [
    "#### Write a Python Program to Check if a Number is Odd or Even?"
   ]
  },
  {
   "cell_type": "code",
   "execution_count": null,
   "id": "3d003241",
   "metadata": {},
   "outputs": [],
   "source": []
  },
  {
   "cell_type": "markdown",
   "id": "3816a81f",
   "metadata": {},
   "source": [
    "#### Write a Python Program to Check Leap Year?"
   ]
  },
  {
   "cell_type": "code",
   "execution_count": null,
   "id": "9e548085",
   "metadata": {},
   "outputs": [],
   "source": []
  },
  {
   "cell_type": "markdown",
   "id": "231860b3",
   "metadata": {},
   "source": [
    "#### Write a Python Program to Check Prime Number?"
   ]
  },
  {
   "cell_type": "code",
   "execution_count": 64,
   "id": "e2ba0306",
   "metadata": {},
   "outputs": [
    {
     "name": "stdout",
     "output_type": "stream",
     "text": [
      "20 not prime number\n"
     ]
    }
   ],
   "source": [
    "def check(x):\n",
    "    for i in range(2,x):\n",
    "        if x%i == 0:\n",
    "            print(x,'not prime number')\n",
    "            break\n",
    "        else:\n",
    "            print('yes prime')\n",
    "            \n",
    "check(20)"
   ]
  },
  {
   "cell_type": "markdown",
   "id": "f8a517f0",
   "metadata": {},
   "source": [
    "#### Write a Python Program to Print all Prime Numbers in an Interval of 1-10000?"
   ]
  },
  {
   "cell_type": "code",
   "execution_count": null,
   "id": "53272d7f",
   "metadata": {},
   "outputs": [],
   "source": []
  },
  {
   "cell_type": "code",
   "execution_count": null,
   "id": "78f52027",
   "metadata": {},
   "outputs": [],
   "source": []
  },
  {
   "cell_type": "code",
   "execution_count": null,
   "id": "776aa512",
   "metadata": {},
   "outputs": [],
   "source": [
    "'''\n",
    "4\n",
    "Write a Python Program to Find the Factorial of a Number?\n",
    "Write a Python Program to Display the multiplication Table?\n",
    "Write a Python Program to Print the Fibonacci sequence?\n",
    "Write a Python Program to Check Armstrong Number?\n",
    "Write a Python Program to Find Armstrong Number in an Interval?\n",
    "Write a Python Program to Find the Sum of Natural Numbers?\n",
    "'''"
   ]
  },
  {
   "cell_type": "code",
   "execution_count": null,
   "id": "f1af99a0",
   "metadata": {},
   "outputs": [],
   "source": [
    "#### Write a Python Program to Find the Factorial of a Number?"
   ]
  },
  {
   "cell_type": "code",
   "execution_count": null,
   "id": "7062212f",
   "metadata": {},
   "outputs": [],
   "source": []
  },
  {
   "cell_type": "code",
   "execution_count": null,
   "id": "fc2bb04f",
   "metadata": {},
   "outputs": [],
   "source": [
    "#### Write a Python Program to Display the multiplication Table?"
   ]
  },
  {
   "cell_type": "code",
   "execution_count": null,
   "id": "c2482327",
   "metadata": {},
   "outputs": [],
   "source": []
  },
  {
   "cell_type": "code",
   "execution_count": null,
   "id": "bc1928df",
   "metadata": {},
   "outputs": [],
   "source": [
    "#### Write a Python Program to Print the Fibonacci sequence?"
   ]
  },
  {
   "cell_type": "code",
   "execution_count": null,
   "id": "fd2d88c1",
   "metadata": {},
   "outputs": [],
   "source": []
  },
  {
   "cell_type": "code",
   "execution_count": null,
   "id": "03043001",
   "metadata": {},
   "outputs": [],
   "source": [
    "#### Write a Python Program to Check Armstrong Number?"
   ]
  },
  {
   "cell_type": "code",
   "execution_count": null,
   "id": "1368795c",
   "metadata": {},
   "outputs": [],
   "source": []
  },
  {
   "cell_type": "code",
   "execution_count": null,
   "id": "c7374c2a",
   "metadata": {},
   "outputs": [],
   "source": [
    "#### Write a Python Program to Find Armstrong Number in an Interval?"
   ]
  },
  {
   "cell_type": "code",
   "execution_count": null,
   "id": "712f66d7",
   "metadata": {},
   "outputs": [],
   "source": []
  },
  {
   "cell_type": "code",
   "execution_count": 65,
   "id": "86d0881b",
   "metadata": {},
   "outputs": [],
   "source": [
    "#### Write a Python Program to Find the Sum of Natural Numbers?"
   ]
  },
  {
   "cell_type": "code",
   "execution_count": null,
   "id": "38da56d2",
   "metadata": {},
   "outputs": [],
   "source": []
  },
  {
   "cell_type": "code",
   "execution_count": null,
   "id": "91464134",
   "metadata": {},
   "outputs": [],
   "source": []
  },
  {
   "cell_type": "code",
   "execution_count": 66,
   "id": "22144d64",
   "metadata": {},
   "outputs": [
    {
     "data": {
      "text/plain": [
       "'\\n5\\nWrite a Python Program to Find LCM?\\nWrite a Python Program to Find HCF?\\nWrite a Python Program to Convert Decimal to Binary, Octal and Hexadecimal?\\nWrite a Python Program To Find ASCII value of a character?\\nWrite a Python Program to Make a Simple Calculator with 4 basic mathematical operations?'"
      ]
     },
     "execution_count": 66,
     "metadata": {},
     "output_type": "execute_result"
    }
   ],
   "source": [
    "'''\n",
    "5\n",
    "Write a Python Program to Find LCM?\n",
    "Write a Python Program to Find HCF?\n",
    "Write a Python Program to Convert Decimal to Binary, Octal and Hexadecimal?\n",
    "Write a Python Program To Find ASCII value of a character?\n",
    "Write a Python Program to Make a Simple Calculator with 4 basic mathematical operations?\n",
    "'''"
   ]
  },
  {
   "cell_type": "code",
   "execution_count": null,
   "id": "a9e6bbf2",
   "metadata": {},
   "outputs": [],
   "source": []
  },
  {
   "cell_type": "code",
   "execution_count": null,
   "id": "4bf6c265",
   "metadata": {},
   "outputs": [],
   "source": []
  },
  {
   "cell_type": "code",
   "execution_count": null,
   "id": "395a4331",
   "metadata": {},
   "outputs": [],
   "source": []
  },
  {
   "cell_type": "code",
   "execution_count": null,
   "id": "e929e476",
   "metadata": {},
   "outputs": [],
   "source": []
  },
  {
   "cell_type": "code",
   "execution_count": null,
   "id": "5cab2c7d",
   "metadata": {},
   "outputs": [],
   "source": []
  },
  {
   "cell_type": "code",
   "execution_count": null,
   "id": "edeffc04",
   "metadata": {},
   "outputs": [],
   "source": [
    "'''\n",
    "6\n",
    "Write a Python Program to Display Fibonacci Sequence Using Recursion?\n",
    "Write a Python Program to Find Factorial of Number Using Recursion?\n",
    "Write a Python Program to calculate your Body Mass Index?\n",
    "Write a Python Program to calculate the natural logarithm of any number?\n",
    "Write a Python Program for cube sum of first n natural numbers?\n",
    "'''"
   ]
  },
  {
   "cell_type": "code",
   "execution_count": null,
   "id": "a61eca7a",
   "metadata": {},
   "outputs": [],
   "source": []
  },
  {
   "cell_type": "code",
   "execution_count": null,
   "id": "af8a47e0",
   "metadata": {},
   "outputs": [],
   "source": []
  },
  {
   "cell_type": "code",
   "execution_count": null,
   "id": "a3809c17",
   "metadata": {},
   "outputs": [],
   "source": []
  },
  {
   "cell_type": "code",
   "execution_count": null,
   "id": "a18758bb",
   "metadata": {},
   "outputs": [],
   "source": []
  },
  {
   "cell_type": "code",
   "execution_count": null,
   "id": "8790057c",
   "metadata": {},
   "outputs": [],
   "source": []
  },
  {
   "cell_type": "code",
   "execution_count": null,
   "id": "b06f5c3f",
   "metadata": {},
   "outputs": [],
   "source": [
    "'''7\n",
    "Write a Python Program to find sum of array?\n",
    "Write a Python Program to find largest element in an array?\n",
    "Write a Python Program for array rotation?\n",
    "Write a Python Program to Split the array and add the first part to the end?\n",
    "Write a Python Program to check if given array is Monotonic?\n",
    "'''"
   ]
  },
  {
   "cell_type": "code",
   "execution_count": null,
   "id": "050e063c",
   "metadata": {},
   "outputs": [],
   "source": []
  },
  {
   "cell_type": "code",
   "execution_count": null,
   "id": "be0f2d53",
   "metadata": {},
   "outputs": [],
   "source": []
  },
  {
   "cell_type": "code",
   "execution_count": null,
   "id": "00779792",
   "metadata": {},
   "outputs": [],
   "source": []
  },
  {
   "cell_type": "code",
   "execution_count": null,
   "id": "d596b082",
   "metadata": {},
   "outputs": [],
   "source": [
    "'''\n",
    "8\n",
    "Write a Python Program to Add Two Matrices?\n",
    "Write a Python Program to Multiply Two Matrices?\n",
    "Write a Python Program to Transpose a Matrix?\n",
    "Write a Python Program to Sort Words in Alphabetic Order?\n",
    "Write a Python Program to Remove Punctuation From a String?\n",
    "'''"
   ]
  },
  {
   "cell_type": "code",
   "execution_count": null,
   "id": "b538aee2",
   "metadata": {},
   "outputs": [],
   "source": []
  },
  {
   "cell_type": "code",
   "execution_count": null,
   "id": "f8f30388",
   "metadata": {},
   "outputs": [],
   "source": []
  },
  {
   "cell_type": "code",
   "execution_count": null,
   "id": "c44b5b84",
   "metadata": {},
   "outputs": [],
   "source": []
  },
  {
   "cell_type": "code",
   "execution_count": null,
   "id": "c2156b2a",
   "metadata": {},
   "outputs": [],
   "source": [
    "'''\n",
    "9\n",
    "Write a Python program to check if the given number is a Disarium Number?\n",
    "Write a Python program to print all disarium numbers between 1 to 100?\n",
    "Write a Python program to check if the given number is Happy Number?\n",
    "Write a Python program to print all happy numbers between 1 and 100?\n",
    "Write a Python program to determine whether the given number is a Harshad Number?\n",
    "Write a Python program to print all pronic numbers between 1 and 100?\n",
    "'''"
   ]
  },
  {
   "cell_type": "code",
   "execution_count": null,
   "id": "4a7b4ceb",
   "metadata": {},
   "outputs": [],
   "source": []
  },
  {
   "cell_type": "code",
   "execution_count": null,
   "id": "b51cde89",
   "metadata": {},
   "outputs": [],
   "source": []
  },
  {
   "cell_type": "code",
   "execution_count": null,
   "id": "d75d0fba",
   "metadata": {},
   "outputs": [],
   "source": []
  },
  {
   "cell_type": "code",
   "execution_count": null,
   "id": "ddd5c0ef",
   "metadata": {},
   "outputs": [],
   "source": []
  },
  {
   "cell_type": "code",
   "execution_count": null,
   "id": "868ebb7b",
   "metadata": {},
   "outputs": [],
   "source": []
  },
  {
   "cell_type": "code",
   "execution_count": null,
   "id": "a16482b9",
   "metadata": {},
   "outputs": [],
   "source": []
  },
  {
   "cell_type": "code",
   "execution_count": null,
   "id": "5ead99e5",
   "metadata": {},
   "outputs": [],
   "source": []
  },
  {
   "cell_type": "code",
   "execution_count": null,
   "id": "0a38ee9d",
   "metadata": {},
   "outputs": [],
   "source": []
  },
  {
   "cell_type": "code",
   "execution_count": null,
   "id": "b828de6d",
   "metadata": {},
   "outputs": [],
   "source": [
    "'''\n",
    "10\n",
    "Write a Python program to find sum of elements in list?\n",
    "Write a Python program to  Multiply all numbers in the list?\n",
    "Write a Python program to find smallest number in a list?\n",
    "Write a Python program to find largest number in a list?\n",
    "Write a Python program to find second largest number in a list?\n",
    "Write a Python program to find N largest elements from a list?\n",
    "Write a Python program to print even numbers in a list?\n",
    "Write a Python program to print odd numbers in a List?\n",
    "Write a Python program to Remove empty List from List?\n",
    "Write a Python program to Cloning or Copying a list?\n",
    "Write a Python program to Count occurrences of an element in a list?\n",
    "'''"
   ]
  },
  {
   "cell_type": "code",
   "execution_count": null,
   "id": "52a4a98e",
   "metadata": {},
   "outputs": [],
   "source": []
  },
  {
   "cell_type": "code",
   "execution_count": null,
   "id": "f43b0fdc",
   "metadata": {},
   "outputs": [],
   "source": []
  },
  {
   "cell_type": "code",
   "execution_count": null,
   "id": "1c634dba",
   "metadata": {},
   "outputs": [],
   "source": []
  },
  {
   "cell_type": "code",
   "execution_count": null,
   "id": "f2f429e7",
   "metadata": {},
   "outputs": [],
   "source": []
  },
  {
   "cell_type": "code",
   "execution_count": null,
   "id": "d5e1cd0b",
   "metadata": {},
   "outputs": [],
   "source": []
  },
  {
   "cell_type": "code",
   "execution_count": null,
   "id": "4a83e1a6",
   "metadata": {},
   "outputs": [],
   "source": [
    "'''\n",
    "11\n",
    "Write a Python program to find words which are greater than given length k?\n",
    "Write a Python program for removing i-th character from a string?\n",
    "Write a Python program to split and join a string?\n",
    "Write a Python to check if a given string is binary string or not?\n",
    "Write a Python program to find uncommon words from two Strings?\n",
    "Write a Python to find all duplicate characters in string?\n",
    "Write a Python Program to check if a string contains any special character?\n",
    "'''"
   ]
  },
  {
   "cell_type": "code",
   "execution_count": null,
   "id": "12993475",
   "metadata": {},
   "outputs": [],
   "source": []
  },
  {
   "cell_type": "code",
   "execution_count": null,
   "id": "c7d16961",
   "metadata": {},
   "outputs": [],
   "source": []
  },
  {
   "cell_type": "code",
   "execution_count": null,
   "id": "4ec80fa7",
   "metadata": {},
   "outputs": [],
   "source": []
  },
  {
   "cell_type": "code",
   "execution_count": null,
   "id": "be50391c",
   "metadata": {},
   "outputs": [],
   "source": []
  },
  {
   "cell_type": "code",
   "execution_count": null,
   "id": "744fc521",
   "metadata": {},
   "outputs": [],
   "source": []
  },
  {
   "cell_type": "code",
   "execution_count": null,
   "id": "0bfc95aa",
   "metadata": {},
   "outputs": [],
   "source": []
  },
  {
   "cell_type": "code",
   "execution_count": null,
   "id": "4bb538a9",
   "metadata": {},
   "outputs": [],
   "source": [
    "'''\n",
    "12\n",
    "Write a Python program to Extract Unique values dictionary values?\n",
    "Write a Python program to find the sum of all items in a dictionary?\n",
    "Write a Python program to Merging two Dictionaries?\n",
    "Write a Python program to convert key-values list to flat dictionary?\n",
    "Write a Python program to insertion at the beginning in OrderedDict?\n",
    "Write a Python program to check order of character in string using OrderedDict()?\n",
    "Write a Python program to sort Python Dictionaries by Key or Value?\n",
    "'''"
   ]
  },
  {
   "cell_type": "code",
   "execution_count": null,
   "id": "29746538",
   "metadata": {},
   "outputs": [],
   "source": []
  },
  {
   "cell_type": "code",
   "execution_count": null,
   "id": "1177b7fe",
   "metadata": {},
   "outputs": [],
   "source": []
  },
  {
   "cell_type": "code",
   "execution_count": null,
   "id": "52611e6b",
   "metadata": {},
   "outputs": [],
   "source": []
  },
  {
   "cell_type": "code",
   "execution_count": null,
   "id": "d68c5222",
   "metadata": {},
   "outputs": [],
   "source": []
  },
  {
   "cell_type": "code",
   "execution_count": null,
   "id": "eaed872f",
   "metadata": {},
   "outputs": [],
   "source": []
  }
 ],
 "metadata": {
  "kernelspec": {
   "display_name": "Python 3 (ipykernel)",
   "language": "python",
   "name": "python3"
  },
  "language_info": {
   "codemirror_mode": {
    "name": "ipython",
    "version": 3
   },
   "file_extension": ".py",
   "mimetype": "text/x-python",
   "name": "python",
   "nbconvert_exporter": "python",
   "pygments_lexer": "ipython3",
   "version": "3.9.12"
  }
 },
 "nbformat": 4,
 "nbformat_minor": 5
}
